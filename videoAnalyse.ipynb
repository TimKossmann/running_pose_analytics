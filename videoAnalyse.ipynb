{
 "cells": [
  {
   "cell_type": "code",
   "execution_count": 2,
   "metadata": {},
   "outputs": [],
   "source": [
    "import cv2\n",
    "import mediapipe as mp\n",
    "mp_drawing = mp.solutions.drawing_utils\n",
    "mp_drawing_styles = mp.solutions.drawing_styles\n",
    "mp_pose = mp.solutions.pose"
   ]
  },
  {
   "cell_type": "code",
   "execution_count": 4,
   "metadata": {},
   "outputs": [
    {
     "name": "stdout",
     "output_type": "stream",
     "text": [
      "Ignoring empty camera frame.\n",
      "20.253907442092896\n"
     ]
    }
   ],
   "source": [
    "cap = cv2.VideoCapture(\"Joggen.MOV\")\n",
    "widest = -999999\n",
    "lowest = 999999\n",
    "safe_img_widest = None\n",
    "with mp_pose.Pose(\n",
    "    min_detection_confidence=0.5,\n",
    "    min_tracking_confidence=0.5) as pose:\n",
    "  while cap.isOpened():\n",
    "    success, image = cap.read()\n",
    "    if not success:\n",
    "      print(\"Ignoring empty camera frame.\")\n",
    "      print(widest)\n",
    "      cv2.imshow(\"Widest IMG\", safe_img_widest)\n",
    "      # If loading a video, use 'break' instead of 'continue'.\n",
    "      break\n",
    "\n",
    "    # To improve performance, optionally mark the image as not writeable to\n",
    "    # pass by reference.\n",
    "    image.flags.writeable = False\n",
    "    image = cv2.cvtColor(image, cv2.COLOR_BGR2RGB)\n",
    "    results = pose.process(image)\n",
    "\n",
    "    # Draw the pose annotation on the image.\n",
    "    image.flags.writeable = True\n",
    "    font = cv2.FONT_HERSHEY_SIMPLEX\n",
    "\n",
    "    image_hight, image_width, _ = image.shape\n",
    "    x_knee = results.pose_landmarks.landmark[mp_pose.PoseLandmark.LEFT_KNEE].x * image_width\n",
    "    y_knee = results.pose_landmarks.landmark[mp_pose.PoseLandmark.LEFT_KNEE].y * image_hight\n",
    "    x_ankle = results.pose_landmarks.landmark[mp_pose.PoseLandmark.LEFT_ANKLE].x * image_width\n",
    "    y_ankle = results.pose_landmarks.landmark[mp_pose.PoseLandmark.LEFT_ANKLE].y * image_hight\n",
    "    difference = x_knee-x_ankle\n",
    "    \n",
    "\n",
    "    image = cv2.cvtColor(image, cv2.COLOR_RGB2BGR)\n",
    "    mp_drawing.draw_landmarks(\n",
    "        image,\n",
    "        results.pose_landmarks,\n",
    "        mp_pose.POSE_CONNECTIONS,\n",
    "        landmark_drawing_spec=mp_drawing_styles.get_default_pose_landmarks_style())\n",
    "    # Flip the image horizontally for a selfie-view display.\n",
    "    image = cv2.putText(image, f'Linkes Knie zu Knöchel: {x_knee-x_ankle}', (50,50), font, \n",
    "                   1, (0,0,0), 4, cv2.LINE_AA)\n",
    "    #image = cv2.putText(image, f'Rechtes Knie Y: {y_coodinate}', (50,100), font, \n",
    "    #               1, (0,0,0), 4, cv2.LINE_AA)\n",
    "    cv2.imshow(\"Bildauschnitt\", image)\n",
    "\n",
    "    if difference > widest:\n",
    "      widest = difference\n",
    "      safe_img_widest = image.copy()\n",
    "    if cv2.waitKey(5) & 0xFF == 27:\n",
    "      break\n",
    "cap.release()"
   ]
  }
 ],
 "metadata": {
  "interpreter": {
   "hash": "dd9ce000980118fe33fa2f6409167f09d9525e57d7ab1c83e62cc74f807e1391"
  },
  "kernelspec": {
   "display_name": "Python 3.8.13 ('analytics')",
   "language": "python",
   "name": "python3"
  },
  "language_info": {
   "codemirror_mode": {
    "name": "ipython",
    "version": 3
   },
   "file_extension": ".py",
   "mimetype": "text/x-python",
   "name": "python",
   "nbconvert_exporter": "python",
   "pygments_lexer": "ipython3",
   "version": "3.8.13"
  },
  "orig_nbformat": 4
 },
 "nbformat": 4,
 "nbformat_minor": 2
}
